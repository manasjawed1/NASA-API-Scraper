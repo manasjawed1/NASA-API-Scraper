{
 "cells": [
  {
   "cell_type": "code",
   "execution_count": 1,
   "metadata": {},
   "outputs": [],
   "source": [
    "import requests\n",
    "import json\n",
    "import os\n",
    "import pandas as pd\n",
    "import pickle\n",
    "import os.path\n",
    "from googleapiclient.discovery import build\n",
    "from google_auth_oauthlib.flow import InstalledAppFlow\n",
    "from google.auth.transport.requests import Request\n",
    "from apiclient.http import MediaFileUpload"
   ]
  },
  {
   "cell_type": "code",
   "execution_count": 2,
   "metadata": {},
   "outputs": [],
   "source": [
    "api_key = \"DEMO_KEY\"\n",
    "date = \"2016-02-02\"\n",
    "request_url = \"https://api.nasa.gov/mars-photos/api/v1/rovers/curiosity/photos?api_key=\" + api_key + \"&earth_date=\" + date\n",
    "response = requests.get(request_url)"
   ]
  },
  {
   "cell_type": "code",
   "execution_count": 3,
   "metadata": {},
   "outputs": [
    {
     "data": {
      "text/html": [
       "<div>\n",
       "<style scoped>\n",
       "    .dataframe tbody tr th:only-of-type {\n",
       "        vertical-align: middle;\n",
       "    }\n",
       "\n",
       "    .dataframe tbody tr th {\n",
       "        vertical-align: top;\n",
       "    }\n",
       "\n",
       "    .dataframe thead th {\n",
       "        text-align: right;\n",
       "    }\n",
       "</style>\n",
       "<table border=\"1\" class=\"dataframe\">\n",
       "  <thead>\n",
       "    <tr style=\"text-align: right;\">\n",
       "      <th></th>\n",
       "      <th>camera</th>\n",
       "      <th>earth_date</th>\n",
       "      <th>id</th>\n",
       "      <th>img_src</th>\n",
       "      <th>rover</th>\n",
       "      <th>sol</th>\n",
       "    </tr>\n",
       "  </thead>\n",
       "  <tbody>\n",
       "    <tr>\n",
       "      <th>0</th>\n",
       "      <td>{'id': 20, 'name': 'FHAZ', 'rover_id': 5, 'ful...</td>\n",
       "      <td>2016-02-02</td>\n",
       "      <td>536759</td>\n",
       "      <td>http://mars.jpl.nasa.gov/msl-raw-images/proj/m...</td>\n",
       "      <td>{'id': 5, 'name': 'Curiosity', 'landing_date':...</td>\n",
       "      <td>1241</td>\n",
       "    </tr>\n",
       "    <tr>\n",
       "      <th>1</th>\n",
       "      <td>{'id': 20, 'name': 'FHAZ', 'rover_id': 5, 'ful...</td>\n",
       "      <td>2016-02-02</td>\n",
       "      <td>536760</td>\n",
       "      <td>http://mars.jpl.nasa.gov/msl-raw-images/proj/m...</td>\n",
       "      <td>{'id': 5, 'name': 'Curiosity', 'landing_date':...</td>\n",
       "      <td>1241</td>\n",
       "    </tr>\n",
       "    <tr>\n",
       "      <th>2</th>\n",
       "      <td>{'id': 20, 'name': 'FHAZ', 'rover_id': 5, 'ful...</td>\n",
       "      <td>2016-02-02</td>\n",
       "      <td>536792</td>\n",
       "      <td>http://mars.jpl.nasa.gov/msl-raw-images/proj/m...</td>\n",
       "      <td>{'id': 5, 'name': 'Curiosity', 'landing_date':...</td>\n",
       "      <td>1241</td>\n",
       "    </tr>\n",
       "    <tr>\n",
       "      <th>3</th>\n",
       "      <td>{'id': 20, 'name': 'FHAZ', 'rover_id': 5, 'ful...</td>\n",
       "      <td>2016-02-02</td>\n",
       "      <td>536793</td>\n",
       "      <td>http://mars.jpl.nasa.gov/msl-raw-images/proj/m...</td>\n",
       "      <td>{'id': 5, 'name': 'Curiosity', 'landing_date':...</td>\n",
       "      <td>1241</td>\n",
       "    </tr>\n",
       "    <tr>\n",
       "      <th>4</th>\n",
       "      <td>{'id': 20, 'name': 'FHAZ', 'rover_id': 5, 'ful...</td>\n",
       "      <td>2016-02-02</td>\n",
       "      <td>536794</td>\n",
       "      <td>http://mars.jpl.nasa.gov/msl-raw-images/proj/m...</td>\n",
       "      <td>{'id': 5, 'name': 'Curiosity', 'landing_date':...</td>\n",
       "      <td>1241</td>\n",
       "    </tr>\n",
       "  </tbody>\n",
       "</table>\n",
       "</div>"
      ],
      "text/plain": [
       "                                              camera  earth_date      id  \\\n",
       "0  {'id': 20, 'name': 'FHAZ', 'rover_id': 5, 'ful...  2016-02-02  536759   \n",
       "1  {'id': 20, 'name': 'FHAZ', 'rover_id': 5, 'ful...  2016-02-02  536760   \n",
       "2  {'id': 20, 'name': 'FHAZ', 'rover_id': 5, 'ful...  2016-02-02  536792   \n",
       "3  {'id': 20, 'name': 'FHAZ', 'rover_id': 5, 'ful...  2016-02-02  536793   \n",
       "4  {'id': 20, 'name': 'FHAZ', 'rover_id': 5, 'ful...  2016-02-02  536794   \n",
       "\n",
       "                                             img_src  \\\n",
       "0  http://mars.jpl.nasa.gov/msl-raw-images/proj/m...   \n",
       "1  http://mars.jpl.nasa.gov/msl-raw-images/proj/m...   \n",
       "2  http://mars.jpl.nasa.gov/msl-raw-images/proj/m...   \n",
       "3  http://mars.jpl.nasa.gov/msl-raw-images/proj/m...   \n",
       "4  http://mars.jpl.nasa.gov/msl-raw-images/proj/m...   \n",
       "\n",
       "                                               rover   sol  \n",
       "0  {'id': 5, 'name': 'Curiosity', 'landing_date':...  1241  \n",
       "1  {'id': 5, 'name': 'Curiosity', 'landing_date':...  1241  \n",
       "2  {'id': 5, 'name': 'Curiosity', 'landing_date':...  1241  \n",
       "3  {'id': 5, 'name': 'Curiosity', 'landing_date':...  1241  \n",
       "4  {'id': 5, 'name': 'Curiosity', 'landing_date':...  1241  "
      ]
     },
     "execution_count": 3,
     "metadata": {},
     "output_type": "execute_result"
    }
   ],
   "source": [
    "cwd = os.getcwd()\n",
    "# import all image data into a DataFrame for exploration and easy CSV export\n",
    "all_images = json.loads(response.content)['photos']\n",
    "df = pd.read_json(json.dumps(all_images))\n",
    "df.to_csv(cwd + '/metadata.csv', index = False)\n",
    "df.head()"
   ]
  },
  {
   "cell_type": "code",
   "execution_count": 4,
   "metadata": {},
   "outputs": [],
   "source": [
    "# Set up Drive API v3 access\n",
    "# The following scope gives complete upload/download/delete access\n",
    "SCOPES = ['https://www.googleapis.com/auth/drive'] \n",
    "creds = None\n",
    "\n",
    "# Once authenticated, file 'token.pickle' will store access codes so that \n",
    "# login does not need to occur again\n",
    "# Code sourced from Drive API's Quickstart sample: https://developers.google.com/people/quickstart/python\n",
    "if os.path.exists('token.pickle'):\n",
    "    with open('token.pickle', 'rb') as token:\n",
    "        creds = pickle.load(token)\n",
    "        \n",
    "# If file does not have valid creds, prompt user login\n",
    "if not creds or not creds.valid:\n",
    "    if creds and creds.expired and creds.refresh_token:\n",
    "        creds.refresh(Request())\n",
    "    else:\n",
    "        flow = InstalledAppFlow.from_client_secrets_file(\n",
    "            'credentials.json', SCOPES)\n",
    "        creds = flow.run_local_server(port=0)\n",
    "\n",
    "    with open('token.pickle', 'wb') as token:\n",
    "        pickle.dump(creds, token)\n",
    "\n",
    "service = build('drive', 'v3', credentials=creds)"
   ]
  },
  {
   "cell_type": "code",
   "execution_count": 5,
   "metadata": {},
   "outputs": [],
   "source": [
    "# upload csv to Drive\n",
    "file_metadata = {'name': \"metadata.csv\", 'parents': ['1zs1NkhuqKLHuaCpdZGwvMyXh79Xi-AsG']}\n",
    "media = MediaFileUpload(\"metadata.csv\")\n",
    "file = service.files().create(body=file_metadata, media_body=media, fields='id').execute()"
   ]
  },
  {
   "cell_type": "code",
   "execution_count": 6,
   "metadata": {},
   "outputs": [
    {
     "name": "stdout",
     "output_type": "stream",
     "text": [
      "Directory 'images' already exists.\n"
     ]
    }
   ],
   "source": [
    "# try to make an \"images\" directory if it doesn't already exist\n",
    "try:\n",
    "    os.mkdir(\"images\")\n",
    "\n",
    "except:\n",
    "    print(\"Directory 'images' already exists.\")"
   ]
  },
  {
   "cell_type": "code",
   "execution_count": 7,
   "metadata": {},
   "outputs": [],
   "source": [
    "# download image one by one and upload to drive\n",
    "# even though all links are currently working, added try-except in case a link goes down \n",
    "# in the future\n",
    "for image in all_images:\n",
    "    try:\n",
    "        file = requests.get(image['img_src'])\n",
    "        file_name = str(image['id'])\n",
    "        ext = \".\" + image['img_src'].split('.')[-1]\n",
    "        open(cwd + '/images/' + file_name + ext, 'wb').write(file.content)\n",
    "        file_metadata = {'name': file_name + ext, 'parents': ['1zs1NkhuqKLHuaCpdZGwvMyXh79Xi-AsG']}\n",
    "        media = MediaFileUpload('images/'+ file_name + ext,\n",
    "                                mimetype='image/jpeg')\n",
    "        file = service.files().create(body=file_metadata, media_body=media, fields='id').execute()\n",
    "    \n",
    "    except Exception as e:\n",
    "        print(str(e))\n",
    "        print(\"Image ID:\", str(image['id']), \"at:\", str(image['img_src']), \"not found.\")\n"
   ]
  }
 ],
 "metadata": {
  "kernelspec": {
   "display_name": "Python 3",
   "language": "python",
   "name": "python3"
  },
  "language_info": {
   "codemirror_mode": {
    "name": "ipython",
    "version": 3
   },
   "file_extension": ".py",
   "mimetype": "text/x-python",
   "name": "python",
   "nbconvert_exporter": "python",
   "pygments_lexer": "ipython3",
   "version": "3.7.3"
  }
 },
 "nbformat": 4,
 "nbformat_minor": 2
}
