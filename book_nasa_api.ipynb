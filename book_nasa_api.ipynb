{
 "cells": [
  {
   "cell_type": "code",
   "execution_count": 1,
   "metadata": {},
   "outputs": [],
   "source": [
    "import requests\n",
    "import json\n",
    "import os\n",
    "import pandas as pd\n",
    "import pickle\n",
    "import os.path\n",
    "from googleapiclient.discovery import build\n",
    "from google_auth_oauthlib.flow import InstalledAppFlow\n",
    "from google.auth.transport.requests import Request\n",
    "from apiclient.http import MediaFileUpload"
   ]
  },
  {
   "cell_type": "code",
   "execution_count": 2,
   "metadata": {},
   "outputs": [],
   "source": [
    "api_key = \"DEMO_KEY\"\n",
    "date = \"2016-02-02\"\n",
    "request_url = \"https://api.nasa.gov/mars-photos/api/v1/rovers/curiosity/photos?api_key=\" + api_key + \"&earth_date=\" + date\n",
    "response = requests.get(request_url)"
   ]
  },
  {
   "cell_type": "code",
   "execution_count": 3,
   "metadata": {},
   "outputs": [
    {
     "data": {
      "text/html": [
       "<div>\n",
       "<style scoped>\n",
       "    .dataframe tbody tr th:only-of-type {\n",
       "        vertical-align: middle;\n",
       "    }\n",
       "\n",
       "    .dataframe tbody tr th {\n",
       "        vertical-align: top;\n",
       "    }\n",
       "\n",
       "    .dataframe thead th {\n",
       "        text-align: right;\n",
       "    }\n",
       "</style>\n",
       "<table border=\"1\" class=\"dataframe\">\n",
       "  <thead>\n",
       "    <tr style=\"text-align: right;\">\n",
       "      <th></th>\n",
       "      <th>camera</th>\n",
       "      <th>earth_date</th>\n",
       "      <th>id</th>\n",
       "      <th>img_src</th>\n",
       "      <th>rover</th>\n",
       "      <th>sol</th>\n",
       "    </tr>\n",
       "  </thead>\n",
       "  <tbody>\n",
       "    <tr>\n",
       "      <th>0</th>\n",
       "      <td>{'id': 20, 'name': 'FHAZ', 'rover_id': 5, 'ful...</td>\n",
       "      <td>2016-02-02</td>\n",
       "      <td>536759</td>\n",
       "      <td>http://mars.jpl.nasa.gov/msl-raw-images/proj/m...</td>\n",
       "      <td>{'id': 5, 'name': 'Curiosity', 'landing_date':...</td>\n",
       "      <td>1241</td>\n",
       "    </tr>\n",
       "    <tr>\n",
       "      <th>1</th>\n",
       "      <td>{'id': 20, 'name': 'FHAZ', 'rover_id': 5, 'ful...</td>\n",
       "      <td>2016-02-02</td>\n",
       "      <td>536760</td>\n",
       "      <td>http://mars.jpl.nasa.gov/msl-raw-images/proj/m...</td>\n",
       "      <td>{'id': 5, 'name': 'Curiosity', 'landing_date':...</td>\n",
       "      <td>1241</td>\n",
       "    </tr>\n",
       "    <tr>\n",
       "      <th>2</th>\n",
       "      <td>{'id': 20, 'name': 'FHAZ', 'rover_id': 5, 'ful...</td>\n",
       "      <td>2016-02-02</td>\n",
       "      <td>536792</td>\n",
       "      <td>http://mars.jpl.nasa.gov/msl-raw-images/proj/m...</td>\n",
       "      <td>{'id': 5, 'name': 'Curiosity', 'landing_date':...</td>\n",
       "      <td>1241</td>\n",
       "    </tr>\n",
       "    <tr>\n",
       "      <th>3</th>\n",
       "      <td>{'id': 20, 'name': 'FHAZ', 'rover_id': 5, 'ful...</td>\n",
       "      <td>2016-02-02</td>\n",
       "      <td>536793</td>\n",
       "      <td>http://mars.jpl.nasa.gov/msl-raw-images/proj/m...</td>\n",
       "      <td>{'id': 5, 'name': 'Curiosity', 'landing_date':...</td>\n",
       "      <td>1241</td>\n",
       "    </tr>\n",
       "    <tr>\n",
       "      <th>4</th>\n",
       "      <td>{'id': 20, 'name': 'FHAZ', 'rover_id': 5, 'ful...</td>\n",
       "      <td>2016-02-02</td>\n",
       "      <td>536794</td>\n",
       "      <td>http://mars.jpl.nasa.gov/msl-raw-images/proj/m...</td>\n",
       "      <td>{'id': 5, 'name': 'Curiosity', 'landing_date':...</td>\n",
       "      <td>1241</td>\n",
       "    </tr>\n",
       "  </tbody>\n",
       "</table>\n",
       "</div>"
      ],
      "text/plain": [
       "                                              camera  earth_date      id  \\\n",
       "0  {'id': 20, 'name': 'FHAZ', 'rover_id': 5, 'ful...  2016-02-02  536759   \n",
       "1  {'id': 20, 'name': 'FHAZ', 'rover_id': 5, 'ful...  2016-02-02  536760   \n",
       "2  {'id': 20, 'name': 'FHAZ', 'rover_id': 5, 'ful...  2016-02-02  536792   \n",
       "3  {'id': 20, 'name': 'FHAZ', 'rover_id': 5, 'ful...  2016-02-02  536793   \n",
       "4  {'id': 20, 'name': 'FHAZ', 'rover_id': 5, 'ful...  2016-02-02  536794   \n",
       "\n",
       "                                             img_src  \\\n",
       "0  http://mars.jpl.nasa.gov/msl-raw-images/proj/m...   \n",
       "1  http://mars.jpl.nasa.gov/msl-raw-images/proj/m...   \n",
       "2  http://mars.jpl.nasa.gov/msl-raw-images/proj/m...   \n",
       "3  http://mars.jpl.nasa.gov/msl-raw-images/proj/m...   \n",
       "4  http://mars.jpl.nasa.gov/msl-raw-images/proj/m...   \n",
       "\n",
       "                                               rover   sol  \n",
       "0  {'id': 5, 'name': 'Curiosity', 'landing_date':...  1241  \n",
       "1  {'id': 5, 'name': 'Curiosity', 'landing_date':...  1241  \n",
       "2  {'id': 5, 'name': 'Curiosity', 'landing_date':...  1241  \n",
       "3  {'id': 5, 'name': 'Curiosity', 'landing_date':...  1241  \n",
       "4  {'id': 5, 'name': 'Curiosity', 'landing_date':...  1241  "
      ]
     },
     "execution_count": 3,
     "metadata": {},
     "output_type": "execute_result"
    }
   ],
   "source": [
    "cwd = os.getcwd()\n",
    "# import all image data into a DataFrame for exploration and easy CSV export\n",
    "all_images = json.loads(response.content)['photos']\n",
    "df = pd.read_json(json.dumps(all_images))\n",
    "df.to_csv(cwd + '/metadata.csv', index = False)\n",
    "df.head()"
   ]
  },
  {
   "cell_type": "code",
   "execution_count": 4,
   "metadata": {},
   "outputs": [
    {
     "name": "stdout",
     "output_type": "stream",
     "text": [
      "Please visit this URL to authorize this application: https://accounts.google.com/o/oauth2/auth?response_type=code&client_id=15383142439-va1dj0r9bbiba4dfbvsemddup2el10m5.apps.googleusercontent.com&redirect_uri=http%3A%2F%2Flocalhost%3A52190%2F&scope=https%3A%2F%2Fwww.googleapis.com%2Fauth%2Fdrive&state=tsOLN4WAc75IMRnFD5nc2ANnm00Ebd&access_type=offline\n"
     ]
    }
   ],
   "source": [
    "# Set up Drive API v3 access\n",
    "# The following scope gives complete upload/download/delete access\n",
    "SCOPES = ['https://www.googleapis.com/auth/drive'] \n",
    "creds = None\n",
    "\n",
    "# Once authenticated, file 'token.pickle' will store access codes so that \n",
    "# login does not need to occur again\n",
    "# Code sourced from Drive API's Quickstart sample: https://developers.google.com/people/quickstart/python\n",
    "if os.path.exists('token.pickle'):\n",
    "    with open('token.pickle', 'rb') as token:\n",
    "        creds = pickle.load(token)\n",
    "        \n",
    "# If file does not have valid creds, prompt user login\n",
    "if not creds or not creds.valid:\n",
    "    if creds and creds.expired and creds.refresh_token:\n",
    "        creds.refresh(Request())\n",
    "    else:\n",
    "        flow = InstalledAppFlow.from_client_secrets_file(\n",
    "            'credentials.json', SCOPES)\n",
    "        creds = flow.run_local_server(port=0)\n",
    "\n",
    "    with open('token.pickle', 'wb') as token:\n",
    "        pickle.dump(creds, token)\n",
    "\n",
    "service = build('drive', 'v3', credentials=creds)"
   ]
  },
  {
   "cell_type": "code",
   "execution_count": 6,
   "metadata": {},
   "outputs": [],
   "source": [
    "# upload csv to Drive\n",
    "file_metadata = {'name': \"metadata.csv\", 'parents': ['1zs1NkhuqKLHuaCpdZGwvMyXh79Xi-AsG']}\n",
    "media = MediaFileUpload(\"metadata.csv\")\n",
    "file = service.files().create(body=file_metadata, media_body=media, fields='id').execute()"
   ]
  },
  {
   "cell_type": "code",
   "execution_count": 5,
   "metadata": {},
   "outputs": [
    {
     "name": "stdout",
     "output_type": "stream",
     "text": [
      "Directory 'images' already exists.\n"
     ]
    }
   ],
   "source": [
    "# try to make an \"images\" directory if it doesn't already exist\n",
    "try:\n",
    "    os.mkdir(\"images\")\n",
    "\n",
    "except:\n",
    "    print(\"Directory 'images' already exists.\")"
   ]
  },
  {
   "cell_type": "code",
   "execution_count": null,
   "metadata": {},
   "outputs": [
    {
     "name": "stdout",
     "output_type": "stream",
     "text": [
      "Image ID: 536759 at: http://mars.jpl.nasa.gov/msl-raw-images/proj/msl/redops/ods/surface/sol/01241/opgs/edr/fcam/FLB_507659589EDR_F0521162FHAZ00323M_.JPG not found.\n",
      "Image ID: 536760 at: http://mars.jpl.nasa.gov/msl-raw-images/proj/msl/redops/ods/surface/sol/01241/opgs/edr/fcam/FRB_507659589EDR_F0521162FHAZ00323M_.JPG not found.\n",
      "Image ID: 536792 at: http://mars.jpl.nasa.gov/msl-raw-images/proj/msl/redops/ods/surface/sol/01241/opgs/edr/fcam/FRB_507675265EDR_F0521162FHAZ00206M_.JPG not found.\n",
      "Image ID: 536793 at: http://mars.jpl.nasa.gov/msl-raw-images/proj/msl/redops/ods/surface/sol/01241/opgs/edr/fcam/FLB_507675265EDR_F0521162FHAZ00206M_.JPG not found.\n",
      "Image ID: 536794 at: http://mars.jpl.nasa.gov/msl-raw-images/proj/msl/redops/ods/surface/sol/01241/opgs/edr/fcam/FLB_507661330EDR_F0521162FHAZ00206M_.JPG not found.\n",
      "Image ID: 536795 at: http://mars.jpl.nasa.gov/msl-raw-images/proj/msl/redops/ods/surface/sol/01241/opgs/edr/fcam/FRB_507661330EDR_F0521162FHAZ00206M_.JPG not found.\n",
      "Image ID: 536778 at: http://mars.jpl.nasa.gov/msl-raw-images/proj/msl/redops/ods/surface/sol/01241/opgs/edr/rcam/RLB_507659623EDR_F0521162RHAZ00323M_.JPG not found.\n",
      "Image ID: 536779 at: http://mars.jpl.nasa.gov/msl-raw-images/proj/msl/redops/ods/surface/sol/01241/opgs/edr/rcam/RRB_507659623EDR_F0521162RHAZ00323M_.JPG not found.\n",
      "Image ID: 537401 at: http://mars.jpl.nasa.gov/msl-raw-images/msss/01241/mcam/1241MR0057570000603547E01_DXXX.jpg not found.\n",
      "Image ID: 537402 at: http://mars.jpl.nasa.gov/msl-raw-images/msss/01241/mcam/1241ML0057680000503951E01_DXXX.jpg not found.\n",
      "Image ID: 537403 at: http://mars.jpl.nasa.gov/msl-raw-images/msss/01241/mcam/1241ML0057670000503950E01_DXXX.jpg not found.\n",
      "Image ID: 537404 at: http://mars.jpl.nasa.gov/msl-raw-images/msss/01241/mcam/1241MR0057660000603546E01_DXXX.jpg not found.\n",
      "Image ID: 537405 at: http://mars.jpl.nasa.gov/msl-raw-images/msss/01241/mcam/1241ML0057650000503949E01_DXXX.jpg not found.\n",
      "Image ID: 537406 at: http://mars.jpl.nasa.gov/msl-raw-images/msss/01241/mcam/1241MR0057640010603545E01_DXXX.jpg not found.\n",
      "Image ID: 537407 at: http://mars.jpl.nasa.gov/msl-raw-images/msss/01241/mcam/1241MR0057630010603544E01_DXXX.jpg not found.\n",
      "Image ID: 537408 at: http://mars.jpl.nasa.gov/msl-raw-images/msss/01241/mcam/1241ML0057620000503948E01_DXXX.jpg not found.\n",
      "Image ID: 537409 at: http://mars.jpl.nasa.gov/msl-raw-images/msss/01241/mcam/1241MR0057610000603543E01_DXXX.jpg not found.\n",
      "Image ID: 537410 at: http://mars.jpl.nasa.gov/msl-raw-images/msss/01241/mcam/1241MR0057600000603542E01_DXXX.jpg not found.\n",
      "Image ID: 537411 at: http://mars.jpl.nasa.gov/msl-raw-images/msss/01241/mcam/1241MR0057590000603541E01_DXXX.jpg not found.\n",
      "Image ID: 537412 at: http://mars.jpl.nasa.gov/msl-raw-images/msss/01241/mcam/1241ML0057580040503954I01_DXXX.jpg not found.\n",
      "Image ID: 537413 at: http://mars.jpl.nasa.gov/msl-raw-images/msss/01241/mcam/1241ML0057580030503953I01_DXXX.jpg not found.\n",
      "Image ID: 537414 at: http://mars.jpl.nasa.gov/msl-raw-images/msss/01241/mcam/1241MR0057580020603548I01_DXXX.jpg not found.\n",
      "Image ID: 537415 at: http://mars.jpl.nasa.gov/msl-raw-images/msss/01241/mcam/1241ML0057580020503952I01_DXXX.jpg not found.\n",
      "Image ID: 537416 at: http://mars.jpl.nasa.gov/msl-raw-images/msss/01241/mcam/1241MR0057570000603547I01_DXXX.jpg not found.\n",
      "Image ID: 537417 at: http://mars.jpl.nasa.gov/msl-raw-images/msss/01241/mcam/1241ML0057680000503951I01_DXXX.jpg not found.\n",
      "Image ID: 537418 at: http://mars.jpl.nasa.gov/msl-raw-images/msss/01241/mcam/1241ML0057670000503950I01_DXXX.jpg not found.\n",
      "Image ID: 537419 at: http://mars.jpl.nasa.gov/msl-raw-images/msss/01241/mcam/1241MR0057660000603546I01_DXXX.jpg not found.\n",
      "Image ID: 537420 at: http://mars.jpl.nasa.gov/msl-raw-images/msss/01241/mcam/1241ML0057650000503949I01_DXXX.jpg not found.\n",
      "Image ID: 537421 at: http://mars.jpl.nasa.gov/msl-raw-images/msss/01241/mcam/1241MR0057640010603545I01_DXXX.jpg not found.\n",
      "Image ID: 537422 at: http://mars.jpl.nasa.gov/msl-raw-images/msss/01241/mcam/1241MR0057630010603544I01_DXXX.jpg not found.\n",
      "Image ID: 537423 at: http://mars.jpl.nasa.gov/msl-raw-images/msss/01241/mcam/1241ML0057620000503948I01_DXXX.jpg not found.\n",
      "Image ID: 537424 at: http://mars.jpl.nasa.gov/msl-raw-images/msss/01241/mcam/1241MR0057610000603543I01_DXXX.jpg not found.\n",
      "Image ID: 537425 at: http://mars.jpl.nasa.gov/msl-raw-images/msss/01241/mcam/1241MR0057600000603542I01_DXXX.jpg not found.\n",
      "Image ID: 537426 at: http://mars.jpl.nasa.gov/msl-raw-images/msss/01241/mcam/1241MR0057590000603541I01_DXXX.jpg not found.\n",
      "Image ID: 537967 at: http://mars.jpl.nasa.gov/msl-raw-images/msss/01241/mcam/1241ML0057580040503954D01_DXXX.jpg not found.\n",
      "Image ID: 537968 at: http://mars.jpl.nasa.gov/msl-raw-images/msss/01241/mcam/1241ML0057580030503953D01_DXXX.jpg not found.\n",
      "Image ID: 537969 at: http://mars.jpl.nasa.gov/msl-raw-images/msss/01241/mcam/1241MR0057580020603548C00_DXXX.jpg not found.\n",
      "Image ID: 537970 at: http://mars.jpl.nasa.gov/msl-raw-images/msss/01241/mcam/1241ML0057580020503952D01_DXXX.jpg not found.\n",
      "Image ID: 536917 at: http://mars.jpl.nasa.gov/msl-raw-images/proj/msl/redops/ods/surface/sol/01241/opgs/edr/ccam/CR0_507670051EDR_F0521162CCAM02241M_.JPG not found.\n",
      "Image ID: 536918 at: http://mars.jpl.nasa.gov/msl-raw-images/proj/msl/redops/ods/surface/sol/01241/opgs/edr/ccam/CR0_507670004EDR_F0521162CCAM02241M_.JPG not found.\n",
      "Image ID: 536919 at: http://mars.jpl.nasa.gov/msl-raw-images/proj/msl/redops/ods/surface/sol/01241/opgs/edr/ccam/CR0_507669794EDR_F0521162CCAM02241M_.JPG not found.\n",
      "Image ID: 536920 at: http://mars.jpl.nasa.gov/msl-raw-images/proj/msl/redops/ods/surface/sol/01241/opgs/edr/ccam/CR0_507669748EDR_F0521162CCAM02241M_.JPG not found.\n",
      "Image ID: 536921 at: http://mars.jpl.nasa.gov/msl-raw-images/proj/msl/redops/ods/surface/sol/01241/opgs/edr/ccam/CR0_507669515EDR_F0521162CCAM02241M_.JPG not found.\n",
      "Image ID: 536922 at: http://mars.jpl.nasa.gov/msl-raw-images/proj/msl/redops/ods/surface/sol/01241/opgs/edr/ccam/CR0_507669110EDR_F0521162CCAM01241M_.JPG not found.\n",
      "Image ID: 536923 at: http://mars.jpl.nasa.gov/msl-raw-images/proj/msl/redops/ods/surface/sol/01241/opgs/edr/ccam/CR0_507669064EDR_F0521162CCAM01241M_.JPG not found.\n",
      "Image ID: 536924 at: http://mars.jpl.nasa.gov/msl-raw-images/proj/msl/redops/ods/surface/sol/01241/opgs/edr/ccam/CR0_507668849EDR_F0521162CCAM01241M_.JPG not found.\n",
      "Image ID: 536925 at: http://mars.jpl.nasa.gov/msl-raw-images/proj/msl/redops/ods/surface/sol/01241/opgs/edr/ccam/CR0_507668803EDR_F0521162CCAM01241M_.JPG not found.\n",
      "Image ID: 536926 at: http://mars.jpl.nasa.gov/msl-raw-images/proj/msl/redops/ods/surface/sol/01241/opgs/edr/ccam/CR0_507668569EDR_F0521162CCAM01241M_.JPG not found.\n",
      "Image ID: 536927 at: http://mars.jpl.nasa.gov/msl-raw-images/proj/msl/redops/ods/surface/sol/01241/soas/rdr/ccam/CR0_507670051PRC_F0521162CCAM02241L1.PNG not found.\n",
      "Image ID: 536928 at: http://mars.jpl.nasa.gov/msl-raw-images/proj/msl/redops/ods/surface/sol/01241/soas/rdr/ccam/CR0_507670004PRC_F0521162CCAM02241L1.PNG not found.\n",
      "Image ID: 536929 at: http://mars.jpl.nasa.gov/msl-raw-images/proj/msl/redops/ods/surface/sol/01241/soas/rdr/ccam/CR0_507669794PRC_F0521162CCAM02241L1.PNG not found.\n",
      "Image ID: 536930 at: http://mars.jpl.nasa.gov/msl-raw-images/proj/msl/redops/ods/surface/sol/01241/soas/rdr/ccam/CR0_507669748PRC_F0521162CCAM02241L1.PNG not found.\n",
      "Image ID: 536931 at: http://mars.jpl.nasa.gov/msl-raw-images/proj/msl/redops/ods/surface/sol/01241/soas/rdr/ccam/CR0_507669110PRC_F0521162CCAM01241L1.PNG not found.\n",
      "Image ID: 536932 at: http://mars.jpl.nasa.gov/msl-raw-images/proj/msl/redops/ods/surface/sol/01241/soas/rdr/ccam/CR0_507669064PRC_F0521162CCAM01241L2.PNG not found.\n",
      "Image ID: 536933 at: http://mars.jpl.nasa.gov/msl-raw-images/proj/msl/redops/ods/surface/sol/01241/soas/rdr/ccam/CR0_507669064PRC_F0521162CCAM01241L1.PNG not found.\n",
      "Image ID: 536934 at: http://mars.jpl.nasa.gov/msl-raw-images/proj/msl/redops/ods/surface/sol/01241/soas/rdr/ccam/CR0_507668849PRC_F0521162CCAM01241L1.PNG not found.\n",
      "Image ID: 536935 at: http://mars.jpl.nasa.gov/msl-raw-images/proj/msl/redops/ods/surface/sol/01241/soas/rdr/ccam/CR0_507668803PRC_F0521162CCAM01241L1.PNG not found.\n",
      "Image ID: 536936 at: http://mars.jpl.nasa.gov/msl-raw-images/proj/msl/redops/ods/surface/sol/01241/soas/rdr/ccam/CR0_507668569PRC_F0521162CCAM01241L1.PNG not found.\n"
     ]
    },
    {
     "name": "stdout",
     "output_type": "stream",
     "text": [
      "Image ID: 537717 at: http://mars.jpl.nasa.gov/msl-raw-images/proj/msl/redops/ods/surface/sol/01241/soas/rdr/ccam/CR0_507669064PRC_F0521162CCAM01241L3.PNG not found.\n",
      "Image ID: 537247 at: http://mars.jpl.nasa.gov/msl-raw-images/msss/01241/mhli/1241MH0005710020403641C00_DXXX.jpg not found.\n",
      "Image ID: 537248 at: http://mars.jpl.nasa.gov/msl-raw-images/msss/01241/mhli/1241MH0005710010403640C00_DXXX.jpg not found.\n",
      "Image ID: 537249 at: http://mars.jpl.nasa.gov/msl-raw-images/msss/01241/mhli/1241MH0005710020403630C00_DXXX.jpg not found.\n",
      "Image ID: 537250 at: http://mars.jpl.nasa.gov/msl-raw-images/msss/01241/mhli/1241MH0005710010403629C00_DXXX.jpg not found.\n",
      "Image ID: 537251 at: http://mars.jpl.nasa.gov/msl-raw-images/msss/01241/mhli/1241MH0005550020403627C00_DXXX.jpg not found.\n",
      "Image ID: 537252 at: http://mars.jpl.nasa.gov/msl-raw-images/msss/01241/mhli/1241MH0005550010403626C00_DXXX.jpg not found.\n",
      "Image ID: 537253 at: http://mars.jpl.nasa.gov/msl-raw-images/msss/01241/mhli/1241MH0005700020403616C00_DXXX.jpg not found.\n",
      "Image ID: 537254 at: http://mars.jpl.nasa.gov/msl-raw-images/msss/01241/mhli/1241MH0005700010403615C00_DXXX.jpg not found.\n",
      "Image ID: 537255 at: http://mars.jpl.nasa.gov/msl-raw-images/msss/01241/mhli/1241MH0005550020403613C00_DXXX.jpg not found.\n",
      "Image ID: 537256 at: http://mars.jpl.nasa.gov/msl-raw-images/msss/01241/mhli/1241MH0005550010403612C00_DXXX.jpg not found.\n",
      "Image ID: 537257 at: http://mars.jpl.nasa.gov/msl-raw-images/msss/01241/mhli/1241MH0005550020403610C00_DXXX.jpg not found.\n",
      "Image ID: 537258 at: http://mars.jpl.nasa.gov/msl-raw-images/msss/01241/mhli/1241MH0005550010403609C00_DXXX.jpg not found.\n",
      "Image ID: 537259 at: http://mars.jpl.nasa.gov/msl-raw-images/msss/01241/mhli/1241MH0005690010403606C00_DXXX.jpg not found.\n",
      "Image ID: 537260 at: http://mars.jpl.nasa.gov/msl-raw-images/msss/01241/mhli/1241MH0005730010403604C00_DXXX.jpg not found.\n",
      "Image ID: 537261 at: http://mars.jpl.nasa.gov/msl-raw-images/msss/01241/mhli/1241MH0005580020403603C00_DXXX.jpg not found.\n",
      "Image ID: 537262 at: http://mars.jpl.nasa.gov/msl-raw-images/msss/01241/mhli/1241MH0005580010403602C00_DXXX.jpg not found.\n",
      "Image ID: 537263 at: http://mars.jpl.nasa.gov/msl-raw-images/msss/01241/mhli/1241MH0005720020403584C00_DXXX.jpg not found.\n",
      "Image ID: 537264 at: http://mars.jpl.nasa.gov/msl-raw-images/msss/01241/mhli/1241MH0005720010403583C00_DXXX.jpg not found.\n",
      "Image ID: 537265 at: http://mars.jpl.nasa.gov/msl-raw-images/msss/01241/mhli/1241MH0005550020403581C00_DXXX.jpg not found.\n",
      "Image ID: 537266 at: http://mars.jpl.nasa.gov/msl-raw-images/msss/01241/mhli/1241MH0005550010403580C00_DXXX.jpg not found.\n"
     ]
    }
   ],
   "source": [
    "# download image one by one and upload to drive\n",
    "# even though all links are currently working, added try-except in case a link goes down \n",
    "# in the future\n",
    "for image in all_images:\n",
    "    try:\n",
    "        file = requests.get(image['img_src'])\n",
    "        file_name = str(image['id'])\n",
    "        ext = \".\" + image['img_src'].split('.')[-1]\n",
    "        open(cwd + '/images/' + file_name + ext, 'wb').write(file.content)\n",
    "        file_metadata = {'name': file_name + ext, 'parents': ['1zs1NkhuqKLHuaCpdZGwvMyXh79Xi-AsG']}\n",
    "        media = MediaFileUpload('images/'+ file_name + ext,\n",
    "                                mimetype='image/jpeg')\n",
    "        file = service.files().create(body=file_metadata, media_body=media, fields='id').execute()\n",
    "    \n",
    "    except:\n",
    "        print(\"Image ID:\", str(image['id']), \"at:\", str(image['img_src']), \"not found.\")\n"
   ]
  },
  {
   "cell_type": "code",
   "execution_count": null,
   "metadata": {},
   "outputs": [],
   "source": []
  }
 ],
 "metadata": {
  "kernelspec": {
   "display_name": "Python 3",
   "language": "python",
   "name": "python3"
  },
  "language_info": {
   "codemirror_mode": {
    "name": "ipython",
    "version": 3
   },
   "file_extension": ".py",
   "mimetype": "text/x-python",
   "name": "python",
   "nbconvert_exporter": "python",
   "pygments_lexer": "ipython3",
   "version": "3.7.3"
  }
 },
 "nbformat": 4,
 "nbformat_minor": 2
}
